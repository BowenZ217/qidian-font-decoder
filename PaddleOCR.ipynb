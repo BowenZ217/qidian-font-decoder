{
 "cells": [
  {
   "cell_type": "code",
   "execution_count": null,
   "id": "db3456f7",
   "metadata": {},
   "outputs": [],
   "source": [
    "import os\n",
    "import csv\n",
    "from paddleocr import PaddleOCR\n",
    "\n",
    "from fontTools.ttLib import TTFont\n",
    "from PIL import Image, ImageFont, ImageDraw\n",
    "# from paddlex import create_model\n"
   ]
  },
  {
   "cell_type": "code",
   "execution_count": 2,
   "id": "f87cb95c",
   "metadata": {},
   "outputs": [],
   "source": [
    "# model = create_model(model_name=\"PP-OCRv4_server_rec_doc\")\n",
    "# output = model.predict(input=\"data/images224/00000.png\", batch_size=1)\n",
    "# for res in output:\n",
    "#     res.print()\n"
   ]
  },
  {
   "cell_type": "code",
   "execution_count": null,
   "id": "54beb7f4",
   "metadata": {},
   "outputs": [],
   "source": [
    "\n",
    "# 初始化 OCR, 只用识别模型, 跳过检测\n",
    "ocr = PaddleOCR(use_angle_cls=False, lang='ch', det=False, use_gpu=True, show_log=False, rec_model_dir='PP-OCRv4-server')  # det=False 适合已裁剪的字符图像\n",
    "\n",
    "IMAGE_FOLDER = 'data/images224'\n",
    "IMAGE_LABELS_FILE = 'labels.txt'\n",
    "IMAGE_LABELS_FILE = os.path.join(IMAGE_FOLDER, IMAGE_LABELS_FILE)\n",
    "ERRORS_CSV = 'ocr_errors.csv'\n",
    "CORRECT_CSV = 'ocr_correct.csv'\n",
    "\n",
    "IMAGE_LABELS = {}\n",
    "with open(IMAGE_LABELS_FILE, 'r', encoding='utf-8') as f:\n",
    "    for line in f:\n",
    "        file_id, char = line.strip().split('\\t')\n",
    "        filename = f\"{file_id}.png\"\n",
    "        IMAGE_LABELS[filename] = char\n"
   ]
  },
  {
   "cell_type": "code",
   "execution_count": null,
   "id": "2fc9f697",
   "metadata": {},
   "outputs": [],
   "source": [
    "# # 准确率统计\n",
    "# total = 0\n",
    "# correct = 0\n",
    "# errors = []\n",
    "# corrects = []\n",
    "\n",
    "# for filename, true_char in IMAGE_LABELS.items():\n",
    "#     img_path = os.path.join(IMAGE_FOLDER, filename)\n",
    "#     if not os.path.exists(img_path):\n",
    "#         print(f\"缺少文件: {filename}\")\n",
    "#         continue\n",
    "\n",
    "#     result = ocr.ocr(img_path, cls=False)\n",
    "    \n",
    "#     # 提取识别结果\n",
    "#     if result and result[0]:\n",
    "#         pred_char = result[0][0][1][0]  # 取出识别字符\n",
    "#         is_correct = pred_char == true_char\n",
    "#         if is_correct:\n",
    "#             correct += 1\n",
    "#             print(f\"正确：{filename} 识别为「{pred_char}」\")\n",
    "#             corrects.append([filename, true_char, pred_char])\n",
    "#         else:\n",
    "#             print(f\"错误: {filename} 识别为「{pred_char}」, 应为「{true_char}」\")\n",
    "#             errors.append([filename, true_char, pred_char])\n",
    "#     else:\n",
    "#         print(f\"无识别结果: {filename}, 应为「{true_char}」\")\n",
    "#         errors.append([filename, true_char, \"\"])\n",
    "    \n",
    "#     total += 1\n",
    "\n",
    "# # 输出准确率\n",
    "# accuracy = correct / total if total > 0 else 0\n",
    "# print(f\"\\n总共评估 {total} 张图像\")\n",
    "# print(f\"准确识别 {correct} 张\")\n",
    "# print(f\"准确率: {accuracy:.3%}\")\n",
    "\n",
    "\n",
    "# # 写入错误样本 CSV 文件\n",
    "# with open(ERRORS_CSV, 'w', newline='', encoding='utf-8-sig') as f:\n",
    "#     writer = csv.writer(f)\n",
    "#     writer.writerow(['id', 'correct_label', 'predicted_label'])\n",
    "#     writer.writerows(errors)\n",
    "\n",
    "# print(f\"\\n错误样本已保存到：{ERRORS_CSV}\")\n",
    "\n",
    "# # 写入正确样本 CSV 文件\n",
    "# with open(CORRECT_CSV, 'w', newline='', encoding='utf-8-sig') as f:\n",
    "#     writer = csv.writer(f)\n",
    "#     writer.writerow(['id', 'correct_label', 'predicted_label'])\n",
    "#     writer.writerows(corrects)\n",
    "# print(f\"正确样本保存至：{CORRECT_CSV}\")\n"
   ]
  }
 ],
 "metadata": {
  "kernelspec": {
   "display_name": "paddle_ocr_env",
   "language": "python",
   "name": "python3"
  },
  "language_info": {
   "codemirror_mode": {
    "name": "ipython",
    "version": 3
   },
   "file_extension": ".py",
   "mimetype": "text/x-python",
   "name": "python",
   "nbconvert_exporter": "python",
   "pygments_lexer": "ipython3",
   "version": "3.9.21"
  }
 },
 "nbformat": 4,
 "nbformat_minor": 5
}
