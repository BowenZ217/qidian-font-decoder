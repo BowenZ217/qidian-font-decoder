{
 "cells": [
  {
   "cell_type": "code",
   "execution_count": 1,
   "id": "78a09902",
   "metadata": {},
   "outputs": [],
   "source": [
    "import numpy as np\n",
    "import matplotlib.pyplot as plt\n",
    "import ipywidgets as widgets\n",
    "from IPython.display import display\n",
    "\n",
    "%matplotlib inline\n",
    "\n",
    "# pip install ipywidgets\n"
   ]
  },
  {
   "cell_type": "code",
   "execution_count": 2,
   "id": "965bb711",
   "metadata": {},
   "outputs": [],
   "source": [
    "CHAR_VECROES_PATH = '../resources/char_vectors.npy'\n",
    "CHAR_VECROES = np.load(CHAR_VECROES_PATH)\n",
    "CHAR_IMAGE_SHAPTE = (32, 32)\n",
    "NUM_SAMPLES = 5\n",
    "\n",
    "button = widgets.Button(description=\"随机样本\")\n",
    "output = widgets.Output()\n"
   ]
  },
  {
   "cell_type": "code",
   "execution_count": 3,
   "id": "ed7143cb",
   "metadata": {},
   "outputs": [],
   "source": [
    "def plot_sample(sample_indices, num_samples):\n",
    "    sample_images = CHAR_VECROES[sample_indices].reshape((num_samples, *CHAR_IMAGE_SHAPTE))\n",
    "    fig, axes = plt.subplots(1, num_samples, figsize=(10, 2))\n",
    "    for ax, img in zip(axes, sample_images):\n",
    "        ax.imshow(img, cmap='gray')\n",
    "        ax.axis('off')\n",
    "    plt.tight_layout()\n",
    "    plt.show()\n",
    "    return\n",
    "\n",
    "def on_button_click(b):\n",
    "    with output:\n",
    "        output.clear_output(wait=True)\n",
    "        # 随机选取样本索引并重塑图像数据\n",
    "        random_indices = np.random.randint(0, len(CHAR_VECROES), size=NUM_SAMPLES)\n",
    "        plot_sample(random_indices, NUM_SAMPLES)\n"
   ]
  },
  {
   "cell_type": "code",
   "execution_count": 4,
   "id": "5621e018",
   "metadata": {},
   "outputs": [
    {
     "data": {
      "image/png": "[encoded data removed]",
      "text/plain": [
       "<Figure size 1000x200 with 5 Axes>"
      ]
     },
     "metadata": {},
     "output_type": "display_data"
    }
   ],
   "source": [
    "sample_indices = np.linspace(0, len(CHAR_VECROES) - 1, NUM_SAMPLES, dtype=int)\n",
    "plot_sample(sample_indices, NUM_SAMPLES)\n"
   ]
  },
  {
   "cell_type": "code",
   "execution_count": null,
   "id": "19dcdf06",
   "metadata": {},
   "outputs": [],
   "source": [
    "# 将点击事件绑定到按钮上\n",
    "button.on_click(on_button_click)\n",
    "\n",
    "# 显示按钮和输出区域\n",
    "display(button, output)"
   ]
  }
 ],
 "metadata": {
  "kernelspec": {
   "display_name": "py_3_12_3",
   "language": "python",
   "name": "python3"
  },
  "language_info": {
   "codemirror_mode": {
    "name": "ipython",
    "version": 3
   },
   "file_extension": ".py",
   "mimetype": "text/x-python",
   "name": "python",
   "nbconvert_exporter": "python",
   "pygments_lexer": "ipython3",
   "version": "3.12.3"
  }
 },
 "nbformat": 4,
 "nbformat_minor": 5
}
